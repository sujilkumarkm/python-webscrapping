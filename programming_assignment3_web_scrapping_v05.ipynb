{
 "cells": [
  {
   "cell_type": "markdown",
   "metadata": {},
   "source": [
    "# Programming Assignment 3\n",
    "###  Prepared by Sujil Kumar K.M (D00242726)\n",
    "##### Web Scraping using python from <a href=\"https://www.bookdepository.com/bestsellers?page=1\"><b>Book Depository</b></a>"
   ]
  },
  {
   "cell_type": "markdown",
   "metadata": {},
   "source": [
    "### 1. Data Scrapping from website"
   ]
  },
  {
   "cell_type": "code",
   "execution_count": 601,
   "metadata": {},
   "outputs": [],
   "source": [
    "from bs4 import BeautifulSoup as bs\n",
    "import requests\n",
    "import numpy as np\n",
    "import pandas as pd\n",
    "import matplotlib.pyplot as plt\n",
    "%matplotlib inline\n",
    "import re\n",
    "import seaborn as sns\n",
    "import time\n",
    "\n",
    "\n",
    "page = 1\n",
    "titles = []\n",
    "dates = []\n",
    "authors = []\n",
    "formats_all = []\n",
    "old_price = []\n",
    "new_price = []\n",
    "saved_price = []\n",
    "order_type = []\n",
    "book_perc = []\n",
    "\n",
    "while page != 10:\n",
    "      url = f\"https://www.bookdepository.com/bestsellers?page={page}\"\n",
    "      response = requests.get(url)\n",
    "      html = response.content\n",
    "      soup = bs(html, \"lxml\")\n",
    "      formats_on_page = soup.select(\"div.item-info p.format\")\n",
    "       \n",
    "      for product_format in formats_on_page:            \n",
    "            formats_all.append(product_format.get_text())\n",
    "      \n",
    "      for h3 in soup.find_all(\"h3\", class_=\"title\"):\n",
    "            titles.append(h3.get_text(strip=True))\n",
    "            \n",
    "      date_on_page = soup.select(\".published\")\n",
    "      for p_date in date_on_page:  \n",
    "            dates.append(p_date.get_text())\n",
    "    \n",
    "      author_on_page = soup.select(\".author a\")\n",
    "      for p_author in author_on_page:  \n",
    "            authors.append(p_author.get_text())\n",
    "            \n",
    "      old_price_page = soup.select(\".rrp\")\n",
    "      for p_oprice in old_price_page:  \n",
    "            old_price.append(p_oprice.get_text())\n",
    "      \n",
    "      new_price_page = soup.select(\".price\")\n",
    "      for p_nprice in new_price_page:  \n",
    "          new_price.append(p_nprice.get_text())\n",
    "      \n",
    "      saved_price_page = soup.select(\".price-save span\")\n",
    "      for p_sprice in saved_price_page:  \n",
    "          saved_price.append(p_sprice.get_text())\n",
    "      \n",
    "      order_type_page = soup.select(\".add-to-basket\")\n",
    "      for p_otype in order_type_page:  \n",
    "          order_type.append(p_otype.get_text())\n",
    "            \n",
    "      off_perc_page = soup.select(\".savings-splat\")\n",
    "      for p_perc in off_perc_page:  \n",
    "          book_perc.append(p_perc.get_text())\n",
    "        \n",
    "      page = page + 1\n",
    "\n",
    "formats_series = pd.Series(formats_all)\n",
    "titles_series = pd.Series(titles)\n",
    "date_on_page = pd.Series(dates)\n",
    "author_on_page = pd.Series(authors)\n",
    "old_price_page = pd.Series(old_price)\n",
    "new_price_page = pd.Series(new_price)\n",
    "saved_price_page = pd.Series(saved_price)\n",
    "order_type_page = pd.Series(order_type)\n",
    "off_perc_page = pd.Series(book_perc)\n",
    "\n",
    "#formats_series.value_counts()"
   ]
  },
  {
   "cell_type": "markdown",
   "metadata": {},
   "source": [
    "### 2. Data Cleaning"
   ]
  },
  {
   "cell_type": "markdown",
   "metadata": {},
   "source": [
    "First i would like to see if there is any data which need filtering , like unwanted charecters or white spaces"
   ]
  },
  {
   "cell_type": "code",
   "execution_count": 602,
   "metadata": {
    "scrolled": true
   },
   "outputs": [
    {
     "data": {
      "text/plain": [
       "0    Paperback\n",
       "1    Paperback\n",
       "2    Paperback\n",
       "3     Hardback\n",
       "4    Paperback\n",
       "dtype: object"
      ]
     },
     "execution_count": 602,
     "metadata": {},
     "output_type": "execute_result"
    }
   ],
   "source": [
    "formats_series.head()"
   ]
  },
  {
   "cell_type": "markdown",
   "metadata": {},
   "source": [
    "Above data seems to be ok"
   ]
  },
  {
   "cell_type": "code",
   "execution_count": 603,
   "metadata": {
    "scrolled": true
   },
   "outputs": [
    {
     "name": "stdout",
     "output_type": "stream",
     "text": [
      "270\n"
     ]
    }
   ],
   "source": [
    "print(len(formats_series))"
   ]
  },
  {
   "cell_type": "code",
   "execution_count": 604,
   "metadata": {
    "scrolled": false
   },
   "outputs": [
    {
     "data": {
      "text/plain": [
       "265        All the Light We Cannot See\n",
       "266              Assassin's Apprentice\n",
       "267                        Heart Bones\n",
       "268               Ao Haru Ride, Vol. 6\n",
       "269    The Perks of Being a Wallflower\n",
       "dtype: object"
      ]
     },
     "execution_count": 604,
     "metadata": {},
     "output_type": "execute_result"
    }
   ],
   "source": [
    "titles_series.tail()"
   ]
  },
  {
   "cell_type": "code",
   "execution_count": 605,
   "metadata": {},
   "outputs": [
    {
     "name": "stdout",
     "output_type": "stream",
     "text": [
      "270\n"
     ]
    }
   ],
   "source": [
    "print(len(titles_series))"
   ]
  },
  {
   "cell_type": "markdown",
   "metadata": {},
   "source": [
    "Above data seems to be ok"
   ]
  },
  {
   "cell_type": "code",
   "execution_count": 606,
   "metadata": {
    "scrolled": false
   },
   "outputs": [
    {
     "data": {
      "text/plain": [
       "0    02 Aug 2016\n",
       "1    14 Oct 2021\n",
       "2    21 Jan 2016\n",
       "3    06 Jan 2022\n",
       "4    27 Nov 2018\n",
       "dtype: object"
      ]
     },
     "execution_count": 606,
     "metadata": {},
     "output_type": "execute_result"
    }
   ],
   "source": [
    "date_on_page.head()"
   ]
  },
  {
   "cell_type": "code",
   "execution_count": 607,
   "metadata": {
    "scrolled": true
   },
   "outputs": [
    {
     "data": {
      "text/plain": [
       "0     2016-08-02\n",
       "1     2021-10-14\n",
       "2     2016-01-21\n",
       "3     2022-01-06\n",
       "4     2018-11-27\n",
       "         ...    \n",
       "265   2015-05-01\n",
       "266   2014-03-27\n",
       "267   2020-08-24\n",
       "268   2019-09-05\n",
       "269   2009-02-10\n",
       "Length: 270, dtype: datetime64[ns]"
      ]
     },
     "execution_count": 607,
     "metadata": {},
     "output_type": "execute_result"
    }
   ],
   "source": [
    "date = pd.to_datetime(date_on_page)\n",
    "date"
   ]
  },
  {
   "cell_type": "code",
   "execution_count": 608,
   "metadata": {},
   "outputs": [
    {
     "name": "stdout",
     "output_type": "stream",
     "text": [
      "270\n"
     ]
    }
   ],
   "source": [
    "print(len(date))"
   ]
  },
  {
   "cell_type": "markdown",
   "metadata": {},
   "source": [
    "Date seems to be looking fine, type conversion will follow in futher steps"
   ]
  },
  {
   "cell_type": "code",
   "execution_count": 609,
   "metadata": {
    "scrolled": true
   },
   "outputs": [
    {
     "name": "stdout",
     "output_type": "stream",
     "text": [
      "270\n"
     ]
    }
   ],
   "source": [
    "print(len(author_on_page))"
   ]
  },
  {
   "cell_type": "code",
   "execution_count": 610,
   "metadata": {
    "scrolled": true
   },
   "outputs": [
    {
     "data": {
      "text/plain": [
       "0         Colleen Hoover\n",
       "1    Taylor Jenkins Reid\n",
       "2         Colleen Hoover\n",
       "3             Ed Winters\n",
       "4            James Clear\n",
       "dtype: object"
      ]
     },
     "execution_count": 610,
     "metadata": {},
     "output_type": "execute_result"
    }
   ],
   "source": [
    "author_on_page.head()"
   ]
  },
  {
   "cell_type": "markdown",
   "metadata": {},
   "source": [
    "Above variable seems to be ok"
   ]
  },
  {
   "cell_type": "code",
   "execution_count": 611,
   "metadata": {
    "scrolled": false
   },
   "outputs": [
    {
     "data": {
      "text/plain": [
       "0    10,50 €\n",
       "1    11,50 €\n",
       "2    11,50 €\n",
       "3    22,00 €\n",
       "4    11,50 €\n",
       "dtype: object"
      ]
     },
     "execution_count": 611,
     "metadata": {},
     "output_type": "execute_result"
    }
   ],
   "source": [
    "old_price_page.head()"
   ]
  },
  {
   "cell_type": "code",
   "execution_count": 612,
   "metadata": {
    "scrolled": false
   },
   "outputs": [
    {
     "name": "stdout",
     "output_type": "stream",
     "text": [
      "249\n"
     ]
    }
   ],
   "source": [
    "print(len(old_price_page))"
   ]
  },
  {
   "cell_type": "markdown",
   "metadata": {},
   "source": [
    "let me remove dollar sign here above"
   ]
  },
  {
   "cell_type": "code",
   "execution_count": 613,
   "metadata": {
    "scrolled": true
   },
   "outputs": [],
   "source": [
    "old_price_page = list(map(lambda st: str.replace(st, \" €\",\"\"),old_price_page))"
   ]
  },
  {
   "cell_type": "code",
   "execution_count": 614,
   "metadata": {},
   "outputs": [],
   "source": [
    "old_price_page = list(map(lambda st: str.replace(st, \",\",\".\"),old_price_page))"
   ]
  },
  {
   "cell_type": "code",
   "execution_count": 615,
   "metadata": {},
   "outputs": [],
   "source": [
    "old_price_page = list(map(float, old_price_page))"
   ]
  },
  {
   "cell_type": "code",
   "execution_count": 616,
   "metadata": {
    "scrolled": true
   },
   "outputs": [
    {
     "name": "stdout",
     "output_type": "stream",
     "text": [
      "[10.5, 11.5, 11.5, 22.0, 11.5, 20.5, 100.5, 20.5, 11.5, 11.5, 11.5, 10.0, 11.5, 12.0, 20.5, 10.5, 11.5, 14.5, 12.0, 11.5, 18.5, 14.5, 20.5, 21.9, 16.5, 54.0, 10.5, 16.5, 17.5, 16.5, 13.0, 17.5, 11.5, 20.5, 11.5, 26.0, 10.5, 16.5, 7.99, 13.5, 10.5, 14.0, 16.5, 10.5, 11.5, 23.9, 17.67, 12.0, 12.0, 11.5, 12.5, 14.0, 12.5, 19.5, 12.5, 10.5, 8.5, 10.0, 12.5, 10.0, 22.0, 11.5, 20.5, 16.5, 11.5, 12.5, 12.5, 18.5, 11.5, 11.5, 14.5, 10.5, 10.5, 12.0, 13.5, 20.5, 12.0, 10.5, 11.5, 21.6, 13.5, 22.9, 19.5, 11.5, 20.5, 20.5, 13.0, 13.0, 18.5, 13.5, 11.4, 11.0, 12.5, 17.9, 10.0, 18.5, 10.0, 12.0, 16.29, 12.0, 29.0, 24.74, 11.5, 22.0, 11.5, 14.5, 13.9, 10.5, 20.5, 10.5, 16.5, 12.0, 12.0, 10.5, 80.5, 12.5, 19.5, 38.5, 22.0, 10.5, 14.3, 11.5, 30.0, 10.5, 11.5, 3.11, 20.5, 11.5, 7.0, 17.5, 13.0, 22.0, 15.99, 19.0, 13.5, 11.5, 11.0, 38.5, 11.5, 38.5, 17.5, 22.1, 11.5, 18.5, 11.5, 10.3, 12.0, 11.0, 12.0, 11.5, 10.5, 21.5, 45.0, 12.0, 20.0, 11.5, 19.0, 11.5, 10.5, 12.5, 22.0, 14.0, 17.5, 32.5, 12.5, 10.5, 7.5, 22.5, 17.0, 12.0, 11.0, 12.5, 24.0, 11.5, 12.5, 11.5, 10.5, 10.5, 12.0, 12.0, 10.18, 13.0, 22.0, 22.0, 10.5, 12.5, 25.0, 11.0, 14.5, 18.5, 34.5, 9.0, 12.5, 14.5, 13.0, 34.5, 9.0, 12.5, 10.5, 34.5, 25.0, 13.0, 19.0, 18.5, 8.5, 13.0, 19.0, 13.0, 12.5, 19.0, 16.5, 17.03, 19.5, 11.5, 92.0, 26.0, 11.5, 19.6, 18.5, 13.0, 12.5, 15.5, 11.5, 19.5, 31.5, 22.5, 14.5, 12.5, 13.0, 15.0, 25.0, 28.5, 10.5, 13.5, 13.0, 30.0, 19.3, 9.5, 14.0, 24.5, 12.0, 17.5, 19.5, 13.0, 11.5, 12.0, 13.16, 10.5, 10.5]\n"
     ]
    }
   ],
   "source": [
    "print(old_price_page)"
   ]
  },
  {
   "cell_type": "code",
   "execution_count": 617,
   "metadata": {
    "scrolled": false
   },
   "outputs": [],
   "source": [
    "old_price_page.insert(4, np.nan)\n",
    "old_price_page.insert(11, np.nan)\n",
    "old_price_page.insert(41, np.nan)\n",
    "old_price_page.insert(70, np.nan)\n",
    "old_price_page.insert(81, np.nan)\n",
    "old_price_page.insert(98, np.nan)\n",
    "old_price_page.insert(107, np.nan)\n",
    "old_price_page.insert(111, np.nan)\n",
    "old_price_page.insert(116, np.nan)\n",
    "old_price_page.insert(122, np.nan)\n",
    "old_price_page.insert(136, np.nan)\n",
    "old_price_page.insert(177, np.nan)\n",
    "old_price_page.insert(180, np.nan)\n",
    "old_price_page.insert(192, np.nan)\n",
    "old_price_page.insert(198, np.nan)\n",
    "old_price_page.insert(207, np.nan)\n",
    "old_price_page.insert(213, np.nan)\n",
    "old_price_page.insert(226, np.nan)\n",
    "old_price_page.insert(234, np.nan)\n",
    "old_price_page.insert(238, np.nan)\n",
    "old_price_page.insert(249, np.nan)"
   ]
  },
  {
   "cell_type": "code",
   "execution_count": 618,
   "metadata": {
    "scrolled": true
   },
   "outputs": [
    {
     "name": "stdout",
     "output_type": "stream",
     "text": [
      "270\n"
     ]
    }
   ],
   "source": [
    "print(len(old_price_page))"
   ]
  },
  {
   "cell_type": "markdown",
   "metadata": {},
   "source": [
    "original price is now 270 , good to go"
   ]
  },
  {
   "cell_type": "code",
   "execution_count": 619,
   "metadata": {},
   "outputs": [
    {
     "data": {
      "text/plain": [
       "[10.5,\n",
       " 11.5,\n",
       " 11.5,\n",
       " 22.0,\n",
       " nan,\n",
       " 11.5,\n",
       " 20.5,\n",
       " 100.5,\n",
       " 20.5,\n",
       " 11.5,\n",
       " 11.5,\n",
       " nan,\n",
       " 11.5,\n",
       " 10.0,\n",
       " 11.5,\n",
       " 12.0,\n",
       " 20.5,\n",
       " 10.5,\n",
       " 11.5,\n",
       " 14.5,\n",
       " 12.0,\n",
       " 11.5,\n",
       " 18.5,\n",
       " 14.5,\n",
       " 20.5,\n",
       " 21.9,\n",
       " 16.5,\n",
       " 54.0,\n",
       " 10.5,\n",
       " 16.5,\n",
       " 17.5,\n",
       " 16.5,\n",
       " 13.0,\n",
       " 17.5,\n",
       " 11.5,\n",
       " 20.5,\n",
       " 11.5,\n",
       " 26.0,\n",
       " 10.5,\n",
       " 16.5,\n",
       " 7.99,\n",
       " nan,\n",
       " 13.5,\n",
       " 10.5,\n",
       " 14.0,\n",
       " 16.5,\n",
       " 10.5,\n",
       " 11.5,\n",
       " 23.9,\n",
       " 17.67,\n",
       " 12.0,\n",
       " 12.0,\n",
       " 11.5,\n",
       " 12.5,\n",
       " 14.0,\n",
       " 12.5,\n",
       " 19.5,\n",
       " 12.5,\n",
       " 10.5,\n",
       " 8.5,\n",
       " 10.0,\n",
       " 12.5,\n",
       " 10.0,\n",
       " 22.0,\n",
       " 11.5,\n",
       " 20.5,\n",
       " 16.5,\n",
       " 11.5,\n",
       " 12.5,\n",
       " 12.5,\n",
       " nan,\n",
       " 18.5,\n",
       " 11.5,\n",
       " 11.5,\n",
       " 14.5,\n",
       " 10.5,\n",
       " 10.5,\n",
       " 12.0,\n",
       " 13.5,\n",
       " 20.5,\n",
       " 12.0,\n",
       " nan,\n",
       " 10.5,\n",
       " 11.5,\n",
       " 21.6,\n",
       " 13.5,\n",
       " 22.9,\n",
       " 19.5,\n",
       " 11.5,\n",
       " 20.5,\n",
       " 20.5,\n",
       " 13.0,\n",
       " 13.0,\n",
       " 18.5,\n",
       " 13.5,\n",
       " 11.4,\n",
       " 11.0,\n",
       " 12.5,\n",
       " nan,\n",
       " 17.9,\n",
       " 10.0,\n",
       " 18.5,\n",
       " 10.0,\n",
       " 12.0,\n",
       " 16.29,\n",
       " 12.0,\n",
       " 29.0,\n",
       " nan,\n",
       " 24.74,\n",
       " 11.5,\n",
       " 22.0,\n",
       " nan,\n",
       " 11.5,\n",
       " 14.5,\n",
       " 13.9,\n",
       " 10.5,\n",
       " nan,\n",
       " 20.5,\n",
       " 10.5,\n",
       " 16.5,\n",
       " 12.0,\n",
       " 12.0,\n",
       " nan,\n",
       " 10.5,\n",
       " 80.5,\n",
       " 12.5,\n",
       " 19.5,\n",
       " 38.5,\n",
       " 22.0,\n",
       " 10.5,\n",
       " 14.3,\n",
       " 11.5,\n",
       " 30.0,\n",
       " 10.5,\n",
       " 11.5,\n",
       " 3.11,\n",
       " nan,\n",
       " 20.5,\n",
       " 11.5,\n",
       " 7.0,\n",
       " 17.5,\n",
       " 13.0,\n",
       " 22.0,\n",
       " 15.99,\n",
       " 19.0,\n",
       " 13.5,\n",
       " 11.5,\n",
       " 11.0,\n",
       " 38.5,\n",
       " 11.5,\n",
       " 38.5,\n",
       " 17.5,\n",
       " 22.1,\n",
       " 11.5,\n",
       " 18.5,\n",
       " 11.5,\n",
       " 10.3,\n",
       " 12.0,\n",
       " 11.0,\n",
       " 12.0,\n",
       " 11.5,\n",
       " 10.5,\n",
       " 21.5,\n",
       " 45.0,\n",
       " 12.0,\n",
       " 20.0,\n",
       " 11.5,\n",
       " 19.0,\n",
       " 11.5,\n",
       " 10.5,\n",
       " 12.5,\n",
       " 22.0,\n",
       " 14.0,\n",
       " 17.5,\n",
       " 32.5,\n",
       " 12.5,\n",
       " 10.5,\n",
       " nan,\n",
       " 7.5,\n",
       " 22.5,\n",
       " nan,\n",
       " 17.0,\n",
       " 12.0,\n",
       " 11.0,\n",
       " 12.5,\n",
       " 24.0,\n",
       " 11.5,\n",
       " 12.5,\n",
       " 11.5,\n",
       " 10.5,\n",
       " 10.5,\n",
       " 12.0,\n",
       " nan,\n",
       " 12.0,\n",
       " 10.18,\n",
       " 13.0,\n",
       " 22.0,\n",
       " 22.0,\n",
       " nan,\n",
       " 10.5,\n",
       " 12.5,\n",
       " 25.0,\n",
       " 11.0,\n",
       " 14.5,\n",
       " 18.5,\n",
       " 34.5,\n",
       " 9.0,\n",
       " nan,\n",
       " 12.5,\n",
       " 14.5,\n",
       " 13.0,\n",
       " 34.5,\n",
       " 9.0,\n",
       " nan,\n",
       " 12.5,\n",
       " 10.5,\n",
       " 34.5,\n",
       " 25.0,\n",
       " 13.0,\n",
       " 19.0,\n",
       " 18.5,\n",
       " 8.5,\n",
       " 13.0,\n",
       " 19.0,\n",
       " 13.0,\n",
       " 12.5,\n",
       " nan,\n",
       " 19.0,\n",
       " 16.5,\n",
       " 17.03,\n",
       " 19.5,\n",
       " 11.5,\n",
       " 92.0,\n",
       " 26.0,\n",
       " nan,\n",
       " 11.5,\n",
       " 19.6,\n",
       " 18.5,\n",
       " nan,\n",
       " 13.0,\n",
       " 12.5,\n",
       " 15.5,\n",
       " 11.5,\n",
       " 19.5,\n",
       " 31.5,\n",
       " 22.5,\n",
       " 14.5,\n",
       " 12.5,\n",
       " 13.0,\n",
       " nan,\n",
       " 15.0,\n",
       " 25.0,\n",
       " 28.5,\n",
       " 10.5,\n",
       " 13.5,\n",
       " 13.0,\n",
       " 30.0,\n",
       " 19.3,\n",
       " 9.5,\n",
       " 14.0,\n",
       " 24.5,\n",
       " 12.0,\n",
       " 17.5,\n",
       " 19.5,\n",
       " 13.0,\n",
       " 11.5,\n",
       " 12.0,\n",
       " 13.16,\n",
       " 10.5,\n",
       " 10.5]"
      ]
     },
     "execution_count": 619,
     "metadata": {},
     "output_type": "execute_result"
    }
   ],
   "source": [
    "old_price_page"
   ]
  },
  {
   "cell_type": "code",
   "execution_count": 620,
   "metadata": {
    "scrolled": false
   },
   "outputs": [
    {
     "data": {
      "text/plain": [
       "0    \\n                        8,08 €\\n            ...\n",
       "1    \\n                        7,72 €\\n            ...\n",
       "2    \\n                        8,83 €\\n            ...\n",
       "3                    \\n                        25,04 €\n",
       "4    \\n                        14,53 €\\n           ...\n",
       "5    \\n                        8,83 €\\n            ...\n",
       "6    \\n                        18,35 €\\n           ...\n",
       "7    \\n                        70,55 €\\n           ...\n",
       "8    \\n                        18,89 €\\n           ...\n",
       "9    \\n                        8,20 €\\n            ...\n",
       "dtype: object"
      ]
     },
     "execution_count": 620,
     "metadata": {},
     "output_type": "execute_result"
    }
   ],
   "source": [
    "new_price_page.head(10)"
   ]
  },
  {
   "cell_type": "code",
   "execution_count": 621,
   "metadata": {},
   "outputs": [
    {
     "name": "stdout",
     "output_type": "stream",
     "text": [
      "270\n"
     ]
    }
   ],
   "source": [
    "print(len(new_price_page))"
   ]
  },
  {
   "cell_type": "code",
   "execution_count": 622,
   "metadata": {
    "scrolled": true
   },
   "outputs": [],
   "source": [
    "new_price_page = new_price_page.str.strip()"
   ]
  },
  {
   "cell_type": "code",
   "execution_count": 623,
   "metadata": {
    "scrolled": false
   },
   "outputs": [
    {
     "name": "stdout",
     "output_type": "stream",
     "text": [
      "270\n"
     ]
    }
   ],
   "source": [
    "print(len(new_price_page))"
   ]
  },
  {
   "cell_type": "markdown",
   "metadata": {},
   "source": [
    "1 price new price is missing here"
   ]
  },
  {
   "cell_type": "code",
   "execution_count": 624,
   "metadata": {
    "scrolled": true
   },
   "outputs": [],
   "source": [
    "new_prices = []\n",
    "for x in new_price_page:\n",
    "    new_prices.append(x.split('\\n')[0].strip(' €').replace(',','.'))"
   ]
  },
  {
   "cell_type": "code",
   "execution_count": 625,
   "metadata": {},
   "outputs": [],
   "source": [
    "new_prices = list(map(float, new_prices))"
   ]
  },
  {
   "cell_type": "code",
   "execution_count": 626,
   "metadata": {
    "scrolled": true
   },
   "outputs": [
    {
     "name": "stdout",
     "output_type": "stream",
     "text": [
      "[8.08, 7.72, 8.83, 25.04, 14.53, 8.83, 18.35, 70.55, 18.89, 8.2, 9.39, 8.98, 9.54, 8.26, 9.25, 19.28, 8.83, 8.83, 10.18, 9.81, 7.42, 13.77, 13.54, 15.33, 14.53, 12.0, 49.27, 9.23, 14.73, 12.74, 11.27, 9.81, 13.49, 8.59, 18.35, 8.34, 19.35, 8.92, 12.0, 7.5, 10.13, 27.2, 7.13, 9.64, 14.96, 8.57, 8.83, 17.12, 15.81, 11.33, 9.78, 7.22, 11.19, 11.44, 9.6, 19.31, 9.57, 8.89, 7.38, 9.36, 10.17, 9.25, 11.81, 9.12, 15.28, 11.71, 9.33, 9.57, 8.67, 16.35, 9.5, 8.78, 12.42, 9.19, 10.72, 7.54, 8.26, 8.45, 9.59, 18.35, 8.33, 10.23, 8.83, 12.55, 21.54, 10.04, 17.53, 13.78, 8.75, 18.35, 18.35, 11.1, 9.55, 13.78, 10.51, 8.84, 10.1, 9.02, 11.96, 8.04, 15.4, 13.8, 7.79, 10.74, 15.79, 6.57, 25.96, 22.14, 8.83, 31.69, 15.15, 8.62, 12.52, 24.41, 10.04, 9.27, 9.51, 18.35, 9.09, 9.32, 12.52, 9.57, 8.83, 8.83, 8.83, 54.96, 9.81, 13.17, 26.69, 15.12, 8.57, 12.87, 8.83, 19.33, 7.69, 8.29, 2.98, 18.35, 29.96, 8.83, 4.86, 9.9, 8.39, 19.69, 12.28, 16.93, 10.78, 9.92, 10.1, 27.07, 9.92, 27.07, 10.73, 19.78, 8.29, 13.05, 7.63, 9.54, 9.57, 7.54, 8.62, 7.97, 8.03, 17.07, 30.8, 8.74, 13.8, 7.34, 16.82, 8.38, 6.35, 10.29, 16.46, 9.86, 10.16, 19.23, 9.71, 9.4, 2.98, 8.99, 20.14, 16.29, 15.29, 7.81, 10.4, 9.24, 17.38, 7.42, 9.74, 8.69, 10.37, 7.8, 9.33, 9.25, 7.69, 8.02, 9.02, 13.73, 15.12, 9.4, 15.29, 9.13, 16.05, 10.58, 8.39, 11.35, 32.03, 6.84, 11.29, 13.81, 8.39, 9.81, 32.03, 6.84, 11.29, 13.81, 8.38, 24.08, 16.02, 12.97, 13.17, 11.35, 7.26, 9.46, 17.0, 9.81, 9.48, 13.8, 39.42, 11.19, 16.51, 15.41, 8.98, 60.58, 21.37, 8.79, 12.36, 13.07, 9.67, 9.81, 14.4, 9.65, 17.45, 27.4, 15.57, 38.26, 10.77, 10.08, 8.34, 18.83, 13.42, 19.19, 25.51, 7.87, 11.19, 9.29, 21.56, 14.51, 7.12, 13.2, 17.15, 8.38, 13.41, 13.78, 10.77, 9.5, 8.83, 12.37, 8.38, 7.78]\n"
     ]
    }
   ],
   "source": [
    "print(new_prices)"
   ]
  },
  {
   "cell_type": "code",
   "execution_count": 627,
   "metadata": {
    "scrolled": true
   },
   "outputs": [
    {
     "name": "stdout",
     "output_type": "stream",
     "text": [
      "0      \\n                                Save 2,42 €\n",
      "1      \\n                                Save 3,78 €\n",
      "2      \\n                                Save 2,67 €\n",
      "3      \\n                                Save 7,47 €\n",
      "4      \\n                                Save 2,67 €\n",
      "                           ...                      \n",
      "244    \\n                                Save 2,00 €\n",
      "245    \\n                                Save 3,17 €\n",
      "246    \\n                                Save 0,79 €\n",
      "247    \\n                                Save 2,12 €\n",
      "248    \\n                                Save 2,72 €\n",
      "Length: 249, dtype: object\n"
     ]
    }
   ],
   "source": [
    "print(saved_price_page)"
   ]
  },
  {
   "cell_type": "code",
   "execution_count": 628,
   "metadata": {},
   "outputs": [
    {
     "name": "stdout",
     "output_type": "stream",
     "text": [
      "249\n"
     ]
    }
   ],
   "source": [
    "print(len(saved_price_page))"
   ]
  },
  {
   "cell_type": "code",
   "execution_count": 629,
   "metadata": {},
   "outputs": [],
   "source": [
    "saved_price_page = saved_price_page.str.strip()"
   ]
  },
  {
   "cell_type": "code",
   "execution_count": 630,
   "metadata": {},
   "outputs": [],
   "source": [
    "saved_prices = []\n",
    "for x in saved_price_page:\n",
    "    saved_prices.append(x.split(' €')[0].strip(' €').replace(',','.').replace('Save ',''))"
   ]
  },
  {
   "cell_type": "code",
   "execution_count": 631,
   "metadata": {},
   "outputs": [],
   "source": [
    "saved_prices = list(map(float, saved_prices))"
   ]
  },
  {
   "cell_type": "code",
   "execution_count": 632,
   "metadata": {},
   "outputs": [],
   "source": [
    "saved_prices.insert(4, np.nan)\n",
    "saved_prices.insert(11, np.nan)\n",
    "saved_prices.insert(41, np.nan)\n",
    "saved_prices.insert(70, np.nan)\n",
    "saved_prices.insert(81, np.nan)\n",
    "saved_prices.insert(98, np.nan)\n",
    "saved_prices.insert(107, np.nan)\n",
    "saved_prices.insert(111, np.nan)\n",
    "saved_prices.insert(116, np.nan)\n",
    "saved_prices.insert(122, np.nan)\n",
    "saved_prices.insert(136, np.nan)\n",
    "saved_prices.insert(177, np.nan)\n",
    "saved_prices.insert(180, np.nan)\n",
    "saved_prices.insert(192, np.nan)\n",
    "saved_prices.insert(198, np.nan)\n",
    "saved_prices.insert(207, np.nan)\n",
    "saved_prices.insert(213, np.nan)\n",
    "saved_prices.insert(226, np.nan)\n",
    "saved_prices.insert(234, np.nan)\n",
    "saved_prices.insert(238, np.nan)\n",
    "saved_prices.insert(249, np.nan)"
   ]
  },
  {
   "cell_type": "code",
   "execution_count": 633,
   "metadata": {},
   "outputs": [
    {
     "name": "stdout",
     "output_type": "stream",
     "text": [
      "270\n"
     ]
    }
   ],
   "source": [
    "print(len(saved_prices))"
   ]
  },
  {
   "cell_type": "code",
   "execution_count": 634,
   "metadata": {
    "scrolled": true
   },
   "outputs": [
    {
     "name": "stdout",
     "output_type": "stream",
     "text": [
      "[2.42, 3.78, 2.67, 7.47, nan, 2.67, 2.15, 29.95, 1.61, 3.3, 2.11, nan, 2.52, 0.46, 3.24, 2.75, 1.22, 1.67, 2.67, 4.32, 2.19, 4.08, 4.73, 0.96, 5.17, 7.37, 4.5, 4.73, 1.27, 1.77, 4.76, 5.23, 3.19, 4.01, 2.91, 2.15, 3.16, 6.65, 1.58, 4.5, 0.49, nan, 3.37, 3.37, 4.36, 1.54, 1.93, 2.67, 6.78, 1.86, 0.67, 2.22, 4.28, 1.31, 2.56, 2.9, 0.19, 2.93, 1.61, 1.12, 0.64, 2.33, 0.75, 10.19, 2.38, 5.22, 4.79, 2.17, 2.93, 3.83, nan, 2.15, 2.72, 2.31, 3.78, 2.96, 2.24, 3.55, 3.91, 2.15, 3.67, nan, 0.27, 2.67, 0.06, 3.46, 5.37, 5.72, 2.75, 2.15, 2.15, 1.9, 3.45, 4.72, 2.99, 2.56, 0.9, 3.48, nan, 5.94, 1.96, 4.7, 2.21, 1.26, 0.5, 5.43, 3.04, nan, 2.6, 2.67, 6.85, nan, 2.88, 1.98, 3.86, 1.23, nan, 2.15, 1.18, 3.98, 2.43, 3.17, nan, 1.67, 25.54, 2.69, 6.33, 11.81, 6.88, 1.93, 1.43, 2.67, 10.67, 2.81, 3.21, 0.13, nan, 2.15, 2.67, 2.14, 7.6, 4.61, 2.31, 3.71, 2.07, 2.72, 1.58, 0.9, 11.43, 1.58, 11.43, 6.77, 2.32, 3.21, 5.45, 3.87, 0.76, 2.43, 3.46, 3.38, 3.53, 2.47, 4.43, 14.2, 3.26, 6.2, 4.16, 2.18, 3.12, 4.15, 2.21, 5.54, 4.14, 7.34, 13.27, 2.79, 1.1, nan, 4.52, 2.36, nan, 0.71, 4.19, 0.6, 3.26, 6.62, 4.08, 2.76, 2.81, 0.13, 2.7, 2.67, nan, 2.75, 2.16, 3.98, 8.27, 6.88, nan, 1.1, 3.37, 8.95, 0.42, 6.11, 7.15, 2.47, 2.16, nan, 1.21, 6.11, 3.19, 2.47, 2.16, nan, 1.21, 2.12, 10.42, 8.98, 0.03, 5.83, 7.15, 1.24, 3.54, 2.0, 3.19, 3.02, nan, 5.2, 5.31, 0.52, 4.09, 2.52, 31.42, 4.63, nan, 2.71, 7.24, 5.43, nan, 3.33, 2.69, 1.1, 1.85, 2.05, 4.1, 6.93, 3.73, 2.42, 4.66, nan, 1.58, 5.81, 2.99, 2.63, 2.31, 3.71, 8.44, 4.79, 2.38, 0.8, 7.35, 3.62, 4.09, 5.72, 2.23, 2.0, 3.17, 0.79, 2.12, 2.72]\n"
     ]
    }
   ],
   "source": [
    "print(saved_prices)"
   ]
  },
  {
   "cell_type": "code",
   "execution_count": 635,
   "metadata": {},
   "outputs": [],
   "source": [
    "order_type_page = order_type_page.str.strip()"
   ]
  },
  {
   "cell_type": "code",
   "execution_count": 636,
   "metadata": {
    "scrolled": true
   },
   "outputs": [
    {
     "name": "stdout",
     "output_type": "stream",
     "text": [
      "0      Add to basket\n",
      "1      Add to basket\n",
      "2      Add to basket\n",
      "3      Add to basket\n",
      "4      Add to basket\n",
      "           ...      \n",
      "265    Add to basket\n",
      "266    Add to basket\n",
      "267    Add to basket\n",
      "268    Add to basket\n",
      "269    Add to basket\n",
      "Length: 270, dtype: object\n"
     ]
    }
   ],
   "source": [
    "print(order_type_page)"
   ]
  },
  {
   "cell_type": "code",
   "execution_count": 637,
   "metadata": {},
   "outputs": [],
   "source": [
    "off_perc_page = off_perc_page.str.strip()"
   ]
  },
  {
   "cell_type": "code",
   "execution_count": 638,
   "metadata": {},
   "outputs": [],
   "source": [
    "percentage = []\n",
    "for x in off_perc_page:\n",
    "    percentage.append(x.split('off')[0].strip('%'))"
   ]
  },
  {
   "cell_type": "code",
   "execution_count": 639,
   "metadata": {
    "scrolled": true
   },
   "outputs": [
    {
     "name": "stdout",
     "output_type": "stream",
     "text": [
      "['23', '32', '23', '33', '23', '10', '29', '7', '28', '18', '21', '28', '22', '5', '15', '23', '29', '18', '35', '25', '6', '25', '33', '27', '8', '12', '10', '27', '31', '24', '22', '25', '10', '27', '25', '15', '27', '6', '24', '32', '31', '9', '18', '23', '28', '10', '5', '18', '37', '10', '18', '23', '23', '15', '13', '6', '18', '7', '46', '20', '25', '29', '18', '23', '30', '11', '23', '20', '26', '28', '21', '29', '28', '10', '30', '23', '25', '23', '29', '23', '10', '10', '14', '26', '25', '22', '22', '8', '27', '33', '19', '25', '22', '10', '45', '10', '10', '23', '31', '25', '13', '27', '11', '10', '11', '24', '20', '26', '15', '31', '21', '32', '30', '31', '18', '9', '23', '35', '26', '27', '10', '23', '30', '43', '35', '10', '23', '10', '20', '13', '8', '29', '13', '29', '38', '10', '27', '29', '33', '7', '20', '31', '28', '30', '23', '20', '31', '27', '31', '36', '11', '27', '39', '17', '25', '29', '41', '40', '22', '10', '60', '10', '34', '5', '26', '27', '35', '22', '24', '25', '22', '22', '21', '30', '37', '31', '10', '26', '35', '42', '38', '7', '24', '9', '42', '24', '7', '24', '9', '20', '30', '35', '30', '38', '14', '27', '10', '24', '24', '27', '32', '20', '21', '34', '17', '23', '36', '29', '25', '21', '7', '16', '10', '13', '30', '25', '19', '35', '10', '23', '10', '25', '17', '28', '28', '24', '25', '5', '29', '30', '23', '29', '17', '17', '26', '6', '20', '25']\n"
     ]
    }
   ],
   "source": [
    "print(percentage)"
   ]
  },
  {
   "cell_type": "code",
   "execution_count": 640,
   "metadata": {
    "scrolled": true
   },
   "outputs": [],
   "source": [
    "percentage = list(map(float, percentage))"
   ]
  },
  {
   "cell_type": "code",
   "execution_count": 641,
   "metadata": {},
   "outputs": [],
   "source": [
    "percentage.insert(4, np.nan)\n",
    "percentage.insert(11, np.nan)\n",
    "percentage.insert(18, np.nan)\n",
    "percentage.insert(20, np.nan)\n",
    "percentage.insert(25, np.nan)\n",
    "percentage.insert(30, np.nan)\n",
    "percentage.insert(33, np.nan)\n",
    "percentage.insert(38, np.nan)\n",
    "percentage.insert(41, np.nan)\n",
    "percentage.insert(70, np.nan)\n",
    "percentage.insert(81, np.nan)\n",
    "percentage.insert(98, np.nan)\n",
    "percentage.insert(107, np.nan)\n",
    "percentage.insert(111, np.nan)\n",
    "percentage.insert(113, np.nan)\n",
    "percentage.insert(116, np.nan)\n",
    "percentage.insert(122, np.nan)\n",
    "percentage.insert(136, np.nan)\n",
    "percentage.insert(149, np.nan)\n",
    "percentage.insert(156, np.nan)\n",
    "percentage.insert(164, np.nan)\n",
    "percentage.insert(177, np.nan)\n",
    "percentage.insert(180, np.nan)\n",
    "percentage.insert(192, np.nan)\n",
    "percentage.insert(198, np.nan)\n",
    "percentage.insert(207, np.nan)\n",
    "percentage.insert(213, np.nan)\n",
    "percentage.insert(219, np.nan)\n",
    "percentage.insert(226, np.nan)\n",
    "percentage.insert(234, np.nan)\n",
    "percentage.insert(238, np.nan)\n",
    "percentage.insert(249, np.nan)"
   ]
  },
  {
   "cell_type": "code",
   "execution_count": 642,
   "metadata": {
    "scrolled": true
   },
   "outputs": [
    {
     "name": "stdout",
     "output_type": "stream",
     "text": [
      "270\n"
     ]
    }
   ],
   "source": [
    "print(len(percentage))"
   ]
  },
  {
   "cell_type": "markdown",
   "metadata": {},
   "source": [
    "### 3. Creating and Storing to Dataframe"
   ]
  },
  {
   "cell_type": "code",
   "execution_count": 643,
   "metadata": {
    "scrolled": true
   },
   "outputs": [
    {
     "data": {
      "text/html": [
       "<div>\n",
       "<style scoped>\n",
       "    .dataframe tbody tr th:only-of-type {\n",
       "        vertical-align: middle;\n",
       "    }\n",
       "\n",
       "    .dataframe tbody tr th {\n",
       "        vertical-align: top;\n",
       "    }\n",
       "\n",
       "    .dataframe thead th {\n",
       "        text-align: right;\n",
       "    }\n",
       "</style>\n",
       "<table border=\"1\" class=\"dataframe\">\n",
       "  <thead>\n",
       "    <tr style=\"text-align: right;\">\n",
       "      <th></th>\n",
       "      <th>book_name</th>\n",
       "      <th>format</th>\n",
       "      <th>date</th>\n",
       "      <th>author</th>\n",
       "      <th>original_price</th>\n",
       "      <th>sale_price</th>\n",
       "      <th>cost_saved</th>\n",
       "      <th>discount_%</th>\n",
       "      <th>order_type</th>\n",
       "    </tr>\n",
       "  </thead>\n",
       "  <tbody>\n",
       "    <tr>\n",
       "      <th>260</th>\n",
       "      <td>The Storyteller</td>\n",
       "      <td>Hardback</td>\n",
       "      <td>2021-10-05</td>\n",
       "      <td>Dave Grohl</td>\n",
       "      <td>24.50</td>\n",
       "      <td>17.15</td>\n",
       "      <td>7.35</td>\n",
       "      <td>29.0</td>\n",
       "      <td>Add to basket</td>\n",
       "    </tr>\n",
       "    <tr>\n",
       "      <th>261</th>\n",
       "      <td>Never Let Me Go</td>\n",
       "      <td>Paperback</td>\n",
       "      <td>2010-02-01</td>\n",
       "      <td>Kazuo Ishiguro</td>\n",
       "      <td>12.00</td>\n",
       "      <td>8.38</td>\n",
       "      <td>3.62</td>\n",
       "      <td>30.0</td>\n",
       "      <td>Add to basket</td>\n",
       "    </tr>\n",
       "    <tr>\n",
       "      <th>262</th>\n",
       "      <td>The Whole-Brain Child</td>\n",
       "      <td>Paperback</td>\n",
       "      <td>2018-11-29</td>\n",
       "      <td>Daniel J. Siegel</td>\n",
       "      <td>17.50</td>\n",
       "      <td>13.41</td>\n",
       "      <td>4.09</td>\n",
       "      <td>23.0</td>\n",
       "      <td>Add to basket</td>\n",
       "    </tr>\n",
       "    <tr>\n",
       "      <th>263</th>\n",
       "      <td>Greenlights</td>\n",
       "      <td>Paperback</td>\n",
       "      <td>2021-11-02</td>\n",
       "      <td>Matthew McConaughey</td>\n",
       "      <td>19.50</td>\n",
       "      <td>13.78</td>\n",
       "      <td>5.72</td>\n",
       "      <td>29.0</td>\n",
       "      <td>Add to basket</td>\n",
       "    </tr>\n",
       "    <tr>\n",
       "      <th>264</th>\n",
       "      <td>Jade City</td>\n",
       "      <td>Paperback</td>\n",
       "      <td>2018-06-28</td>\n",
       "      <td>Fonda Lee</td>\n",
       "      <td>13.00</td>\n",
       "      <td>10.77</td>\n",
       "      <td>2.23</td>\n",
       "      <td>17.0</td>\n",
       "      <td>Add to basket</td>\n",
       "    </tr>\n",
       "    <tr>\n",
       "      <th>265</th>\n",
       "      <td>All the Light We Cannot See</td>\n",
       "      <td>Paperback</td>\n",
       "      <td>2015-05-01</td>\n",
       "      <td>Anthony Doerr</td>\n",
       "      <td>11.50</td>\n",
       "      <td>9.50</td>\n",
       "      <td>2.00</td>\n",
       "      <td>17.0</td>\n",
       "      <td>Add to basket</td>\n",
       "    </tr>\n",
       "    <tr>\n",
       "      <th>266</th>\n",
       "      <td>Assassin's Apprentice</td>\n",
       "      <td>Paperback</td>\n",
       "      <td>2014-03-27</td>\n",
       "      <td>Robin Hobb</td>\n",
       "      <td>12.00</td>\n",
       "      <td>8.83</td>\n",
       "      <td>3.17</td>\n",
       "      <td>26.0</td>\n",
       "      <td>Add to basket</td>\n",
       "    </tr>\n",
       "    <tr>\n",
       "      <th>267</th>\n",
       "      <td>Heart Bones</td>\n",
       "      <td>Paperback</td>\n",
       "      <td>2020-08-24</td>\n",
       "      <td>Colleen Hoover</td>\n",
       "      <td>13.16</td>\n",
       "      <td>12.37</td>\n",
       "      <td>0.79</td>\n",
       "      <td>6.0</td>\n",
       "      <td>Add to basket</td>\n",
       "    </tr>\n",
       "    <tr>\n",
       "      <th>268</th>\n",
       "      <td>Ao Haru Ride, Vol. 6</td>\n",
       "      <td>Paperback</td>\n",
       "      <td>2019-09-05</td>\n",
       "      <td>Io Sakisaka</td>\n",
       "      <td>10.50</td>\n",
       "      <td>8.38</td>\n",
       "      <td>2.12</td>\n",
       "      <td>20.0</td>\n",
       "      <td>Add to basket</td>\n",
       "    </tr>\n",
       "    <tr>\n",
       "      <th>269</th>\n",
       "      <td>The Perks of Being a Wallflower</td>\n",
       "      <td>Paperback</td>\n",
       "      <td>2009-02-10</td>\n",
       "      <td>Stephen Chbosky</td>\n",
       "      <td>10.50</td>\n",
       "      <td>7.78</td>\n",
       "      <td>2.72</td>\n",
       "      <td>25.0</td>\n",
       "      <td>Add to basket</td>\n",
       "    </tr>\n",
       "  </tbody>\n",
       "</table>\n",
       "</div>"
      ],
      "text/plain": [
       "                           book_name     format       date  \\\n",
       "260                  The Storyteller   Hardback 2021-10-05   \n",
       "261                  Never Let Me Go  Paperback 2010-02-01   \n",
       "262            The Whole-Brain Child  Paperback 2018-11-29   \n",
       "263                      Greenlights  Paperback 2021-11-02   \n",
       "264                        Jade City  Paperback 2018-06-28   \n",
       "265      All the Light We Cannot See  Paperback 2015-05-01   \n",
       "266            Assassin's Apprentice  Paperback 2014-03-27   \n",
       "267                      Heart Bones  Paperback 2020-08-24   \n",
       "268             Ao Haru Ride, Vol. 6  Paperback 2019-09-05   \n",
       "269  The Perks of Being a Wallflower  Paperback 2009-02-10   \n",
       "\n",
       "                  author  original_price  sale_price  cost_saved  discount_%  \\\n",
       "260           Dave Grohl           24.50       17.15        7.35        29.0   \n",
       "261       Kazuo Ishiguro           12.00        8.38        3.62        30.0   \n",
       "262     Daniel J. Siegel           17.50       13.41        4.09        23.0   \n",
       "263  Matthew McConaughey           19.50       13.78        5.72        29.0   \n",
       "264            Fonda Lee           13.00       10.77        2.23        17.0   \n",
       "265        Anthony Doerr           11.50        9.50        2.00        17.0   \n",
       "266           Robin Hobb           12.00        8.83        3.17        26.0   \n",
       "267       Colleen Hoover           13.16       12.37        0.79         6.0   \n",
       "268          Io Sakisaka           10.50        8.38        2.12        20.0   \n",
       "269      Stephen Chbosky           10.50        7.78        2.72        25.0   \n",
       "\n",
       "        order_type  \n",
       "260  Add to basket  \n",
       "261  Add to basket  \n",
       "262  Add to basket  \n",
       "263  Add to basket  \n",
       "264  Add to basket  \n",
       "265  Add to basket  \n",
       "266  Add to basket  \n",
       "267  Add to basket  \n",
       "268  Add to basket  \n",
       "269  Add to basket  "
      ]
     },
     "execution_count": 643,
     "metadata": {},
     "output_type": "execute_result"
    }
   ],
   "source": [
    "book_depo = pd.DataFrame(list(zip(titles_series ,formats_series, date, author_on_page, old_price_page ,new_prices, saved_prices, percentage, order_type_page)),\n",
    "                  columns =['book_name','format','date','author','original_price', 'sale_price', 'cost_saved','discount_%', 'order_type'])\n",
    "book_depo.tail(10)"
   ]
  },
  {
   "cell_type": "code",
   "execution_count": 648,
   "metadata": {
    "scrolled": false
   },
   "outputs": [
    {
     "data": {
      "text/plain": [
       "74"
      ]
     },
     "execution_count": 648,
     "metadata": {},
     "output_type": "execute_result"
    }
   ],
   "source": [
    "book_depo.isnull().sum().sum()"
   ]
  },
  {
   "cell_type": "markdown",
   "metadata": {},
   "source": [
    "From the above code we can see there are 74 NaN values which are missing in the final dataset"
   ]
  },
  {
   "cell_type": "markdown",
   "metadata": {},
   "source": [
    "As we kmow these 74 values are actually required in the dataset, for example some product will have discount, some products old price stays the same. some products have got discount. So I am not going to make any changes to alter NaN in this dataset"
   ]
  },
  {
   "cell_type": "code",
   "execution_count": 645,
   "metadata": {},
   "outputs": [],
   "source": [
    "book_depo['format'] = book_depo['format'].astype('category')"
   ]
  },
  {
   "cell_type": "code",
   "execution_count": 646,
   "metadata": {},
   "outputs": [],
   "source": [
    "book_depo['order_type'] = book_depo['order_type'].astype('category')"
   ]
  },
  {
   "cell_type": "code",
   "execution_count": 668,
   "metadata": {
    "scrolled": false
   },
   "outputs": [
    {
     "name": "stdout",
     "output_type": "stream",
     "text": [
      "<class 'pandas.core.frame.DataFrame'>\n",
      "RangeIndex: 270 entries, 0 to 269\n",
      "Data columns (total 9 columns):\n",
      " #   Column          Non-Null Count  Dtype         \n",
      "---  ------          --------------  -----         \n",
      " 0   book_name       270 non-null    object        \n",
      " 1   format          270 non-null    category      \n",
      " 2   date            270 non-null    datetime64[ns]\n",
      " 3   author          270 non-null    object        \n",
      " 4   original_price  249 non-null    float64       \n",
      " 5   sale_price      270 non-null    float64       \n",
      " 6   cost_saved      249 non-null    float64       \n",
      " 7   discount_%      238 non-null    float64       \n",
      " 8   order_type      270 non-null    category      \n",
      "dtypes: category(2), datetime64[ns](1), float64(4), object(2)\n",
      "memory usage: 15.7+ KB\n"
     ]
    }
   ],
   "source": [
    "book_depo.info()"
   ]
  },
  {
   "cell_type": "code",
   "execution_count": 682,
   "metadata": {},
   "outputs": [],
   "source": [
    "book_depo.to_csv('E:/Programming_python/Assignment/Assignment_4/export/python_assignment3_webscrap_exported_dataset_book_depo_01092022.csv')"
   ]
  },
  {
   "cell_type": "markdown",
   "metadata": {},
   "source": [
    "Exporting Dataset to csv file"
   ]
  },
  {
   "cell_type": "markdown",
   "metadata": {},
   "source": [
    "##### Describing variables in dataset"
   ]
  },
  {
   "cell_type": "markdown",
   "metadata": {},
   "source": [
    "book_name is a norminal categorical data there is no natural order to it\n",
    "\n",
    "format is also norminal categorical data\n",
    "\n",
    "date can be treated as categorical in thi study\n",
    "\n",
    "author is norminal categorical data\n",
    "\n",
    "original_price is numerical continueous data\n",
    "\n",
    "sale_price is also numerical continueous\n",
    "\n",
    "cost_saved is numerical continueous variable\n",
    "\n",
    "discount_% is also numerical continueous\n",
    "\n",
    "order_type is norminal categorical"
   ]
  },
  {
   "cell_type": "markdown",
   "metadata": {},
   "source": [
    "2 Categorial variables data type changed in this step it can not be done with python list."
   ]
  },
  {
   "cell_type": "code",
   "execution_count": 667,
   "metadata": {
    "scrolled": true
   },
   "outputs": [
    {
     "data": {
      "text/html": [
       "<div>\n",
       "<style scoped>\n",
       "    .dataframe tbody tr th:only-of-type {\n",
       "        vertical-align: middle;\n",
       "    }\n",
       "\n",
       "    .dataframe tbody tr th {\n",
       "        vertical-align: top;\n",
       "    }\n",
       "\n",
       "    .dataframe thead th {\n",
       "        text-align: right;\n",
       "    }\n",
       "</style>\n",
       "<table border=\"1\" class=\"dataframe\">\n",
       "  <thead>\n",
       "    <tr style=\"text-align: right;\">\n",
       "      <th></th>\n",
       "      <th>original_price</th>\n",
       "      <th>sale_price</th>\n",
       "      <th>cost_saved</th>\n",
       "      <th>discount_%</th>\n",
       "    </tr>\n",
       "  </thead>\n",
       "  <tbody>\n",
       "    <tr>\n",
       "      <th>count</th>\n",
       "      <td>249.000000</td>\n",
       "      <td>270.000000</td>\n",
       "      <td>249.000000</td>\n",
       "      <td>238.000000</td>\n",
       "    </tr>\n",
       "    <tr>\n",
       "      <th>mean</th>\n",
       "      <td>16.571325</td>\n",
       "      <td>13.212111</td>\n",
       "      <td>3.799116</td>\n",
       "      <td>22.634454</td>\n",
       "    </tr>\n",
       "    <tr>\n",
       "      <th>std</th>\n",
       "      <td>10.630924</td>\n",
       "      <td>8.056800</td>\n",
       "      <td>3.665523</td>\n",
       "      <td>9.477310</td>\n",
       "    </tr>\n",
       "    <tr>\n",
       "      <th>min</th>\n",
       "      <td>3.110000</td>\n",
       "      <td>2.980000</td>\n",
       "      <td>0.030000</td>\n",
       "      <td>5.000000</td>\n",
       "    </tr>\n",
       "    <tr>\n",
       "      <th>25%</th>\n",
       "      <td>11.500000</td>\n",
       "      <td>8.830000</td>\n",
       "      <td>2.150000</td>\n",
       "      <td>15.250000</td>\n",
       "    </tr>\n",
       "    <tr>\n",
       "      <th>50%</th>\n",
       "      <td>13.000000</td>\n",
       "      <td>10.165000</td>\n",
       "      <td>2.880000</td>\n",
       "      <td>23.000000</td>\n",
       "    </tr>\n",
       "    <tr>\n",
       "      <th>75%</th>\n",
       "      <td>19.000000</td>\n",
       "      <td>15.142500</td>\n",
       "      <td>4.500000</td>\n",
       "      <td>29.000000</td>\n",
       "    </tr>\n",
       "    <tr>\n",
       "      <th>max</th>\n",
       "      <td>100.500000</td>\n",
       "      <td>70.550000</td>\n",
       "      <td>31.420000</td>\n",
       "      <td>60.000000</td>\n",
       "    </tr>\n",
       "  </tbody>\n",
       "</table>\n",
       "</div>"
      ],
      "text/plain": [
       "       original_price  sale_price  cost_saved  discount_%\n",
       "count      249.000000  270.000000  249.000000  238.000000\n",
       "mean        16.571325   13.212111    3.799116   22.634454\n",
       "std         10.630924    8.056800    3.665523    9.477310\n",
       "min          3.110000    2.980000    0.030000    5.000000\n",
       "25%         11.500000    8.830000    2.150000   15.250000\n",
       "50%         13.000000   10.165000    2.880000   23.000000\n",
       "75%         19.000000   15.142500    4.500000   29.000000\n",
       "max        100.500000   70.550000   31.420000   60.000000"
      ]
     },
     "execution_count": 667,
     "metadata": {},
     "output_type": "execute_result"
    }
   ],
   "source": [
    "book_depo.describe()"
   ]
  },
  {
   "cell_type": "markdown",
   "metadata": {},
   "source": [
    "### 4. Visualization and Interpretation"
   ]
  },
  {
   "cell_type": "code",
   "execution_count": 665,
   "metadata": {
    "scrolled": false
   },
   "outputs": [
    {
     "data": {
      "image/png": "[encoded data removed]",
      "text/plain": [
       "<Figure size 432x288 with 1 Axes>"
      ]
     },
     "metadata": {
      "needs_background": "light"
     },
     "output_type": "display_data"
    }
   ],
   "source": [
    "sns.boxplot(x='original_price', data=book_depo)\n",
    "plt.show()"
   ]
  },
  {
   "cell_type": "markdown",
   "metadata": {},
   "source": [
    "We can see the boxplot is not symmetrical and also there are outliers in the graph. These values are not wrong because these are possible prices of any product, so we do not need to make any change there"
   ]
  },
  {
   "cell_type": "code",
   "execution_count": 671,
   "metadata": {
    "scrolled": false
   },
   "outputs": [
    {
     "data": {
      "image/png": "[encoded data removed]",
      "text/plain": [
       "<Figure size 432x288 with 1 Axes>"
      ]
     },
     "metadata": {
      "needs_background": "light"
     },
     "output_type": "display_data"
    }
   ],
   "source": [
    "sns.boxplot(x='sale_price', data=book_depo)\n",
    "plt.show()"
   ]
  },
  {
   "cell_type": "code",
   "execution_count": 666,
   "metadata": {
    "scrolled": true
   },
   "outputs": [
    {
     "data": {
      "image/png": "[encoded data removed]",
      "text/plain": [
       "<Figure size 432x288 with 1 Axes>"
      ]
     },
     "metadata": {
      "needs_background": "light"
     },
     "output_type": "display_data"
    }
   ],
   "source": [
    "sns.boxplot(x='discount_%', data=book_depo)\n",
    "plt.show()"
   ]
  },
  {
   "cell_type": "markdown",
   "metadata": {},
   "source": [
    "From the above diagram discount percentage is not symmetrical(the IQR is somewhat skewed to the right) and ther is an outlier. I think we do not need to worry about it as 60% discount is a practical value."
   ]
  },
  {
   "cell_type": "code",
   "execution_count": 672,
   "metadata": {
    "scrolled": true
   },
   "outputs": [
    {
     "data": {
      "image/png": "[encoded data removed]",
      "text/plain": [
       "<Figure size 432x288 with 1 Axes>"
      ]
     },
     "metadata": {
      "needs_background": "light"
     },
     "output_type": "display_data"
    }
   ],
   "source": [
    "sns.boxplot(x='cost_saved', data=book_depo)\n",
    "plt.show()"
   ]
  },
  {
   "cell_type": "markdown",
   "metadata": {},
   "source": [
    "As we seen in previous examples these are possible values seen as outliers no need to make any changes here"
   ]
  },
  {
   "cell_type": "code",
   "execution_count": 649,
   "metadata": {
    "scrolled": true
   },
   "outputs": [
    {
     "data": {
      "image/png": "[encoded data removed]",
      "text/plain": [
       "<Figure size 432x288 with 1 Axes>"
      ]
     },
     "metadata": {
      "needs_background": "light"
     },
     "output_type": "display_data"
    }
   ],
   "source": [
    "sns.barplot(x=\"format\", y=\"sale_price\", hue=\"order_type\", data = book_depo)\n",
    "plt.xlabel(\"format\")\n",
    "plt.ylabel(\"Sale Price\")\n",
    "plt.title(\"Example\")\n",
    "plt.legend(bbox_to_anchor=(1.0, 1.0))\n",
    "plt.show()"
   ]
  },
  {
   "cell_type": "markdown",
   "metadata": {},
   "source": [
    "From the above graph it's evident that , most sale price is for hard back and least is for board book and diary. Also pre-oder is more in book depository website\n",
    "\n",
    "Pre-order sale prices are more compared to add to basket purchases in available books.\n",
    "\n",
    "Diaries are the least in terms of sale price"
   ]
  },
  {
   "cell_type": "code",
   "execution_count": 650,
   "metadata": {
    "scrolled": false
   },
   "outputs": [
    {
     "data": {
      "image/png": "[encoded data removed]",
      "text/plain": [
       "<Figure size 360x360 with 1 Axes>"
      ]
     },
     "metadata": {
      "needs_background": "light"
     },
     "output_type": "display_data"
    },
    {
     "data": {
      "text/plain": [
       "Paperback     224\n",
       "Hardback       42\n",
       "Board book      3\n",
       "Diary           1\n",
       "Name: format, dtype: int64"
      ]
     },
     "execution_count": 650,
     "metadata": {},
     "output_type": "execute_result"
    }
   ],
   "source": [
    "sns.displot(book_depo['format'])\n",
    "plt.show()\n",
    "\n",
    "format_counts = book_depo['format'].value_counts()\n",
    "format_counts"
   ]
  },
  {
   "cell_type": "markdown",
   "metadata": {},
   "source": [
    "Paperpacks are major in the book sale. least one is the diary."
   ]
  },
  {
   "cell_type": "code",
   "execution_count": 651,
   "metadata": {},
   "outputs": [
    {
     "data": {
      "image/png": "[encoded data removed]",
      "text/plain": [
       "<Figure size 576x576 with 1 Axes>"
      ]
     },
     "metadata": {},
     "output_type": "display_data"
    }
   ],
   "source": [
    "# Drawing a pie chart to analyze the data here\n",
    "stat_counts = book_depo['format'].value_counts()\n",
    "#then a dataframe with the counts in it\n",
    "ptd2 = pd.DataFrame({'format': stat_counts},\n",
    " index = ['Paperback', 'Diary', 'Hardback','Board book']\n",
    " )\n",
    "\n",
    "ptd2.plot.pie(y='format', figsize=(8,8), autopct='%1.1f%%')\n",
    "plt.show()"
   ]
  },
  {
   "cell_type": "markdown",
   "metadata": {},
   "source": [
    "Out of 234 books , 200 are paper bags. we can see there is a huge difference. major part is paperback and a small 32 number is hardback\n",
    "\n",
    "There is only 1 each of diary and board book"
   ]
  },
  {
   "cell_type": "code",
   "execution_count": 652,
   "metadata": {
    "scrolled": false
   },
   "outputs": [
    {
     "data": {
      "image/png": "[encoded data removed]",
      "text/plain": [
       "<Figure size 432x288 with 1 Axes>"
      ]
     },
     "metadata": {
      "needs_background": "light"
     },
     "output_type": "display_data"
    },
    {
     "data": {
      "text/plain": [
       "Add to basket    251\n",
       "Pre-order         19\n",
       "Name: order_type, dtype: int64"
      ]
     },
     "execution_count": 652,
     "metadata": {},
     "output_type": "execute_result"
    }
   ],
   "source": [
    "sns.countplot(x = 'order_type', data = book_depo)\n",
    "plt.show()\n",
    "\n",
    "oder_type_count = book_depo['order_type'].value_counts()\n",
    "oder_type_count"
   ]
  },
  {
   "cell_type": "markdown",
   "metadata": {},
   "source": [
    "Major portion of the books are add to cart, very small number of books are available for pre-order"
   ]
  },
  {
   "cell_type": "code",
   "execution_count": 653,
   "metadata": {
    "scrolled": true
   },
   "outputs": [
    {
     "data": {
      "image/png": "[encoded data removed]",
      "text/plain": [
       "<Figure size 432x288 with 1 Axes>"
      ]
     },
     "metadata": {
      "needs_background": "light"
     },
     "output_type": "display_data"
    }
   ],
   "source": [
    "sns.regplot(x='date', y= 'discount_%', data = book_depo, fit_reg = False)\n",
    "plt.xlabel(\"Date\")\n",
    "plt.ylabel(\"Discount %\")\n",
    "plt.show()\n"
   ]
  },
  {
   "cell_type": "markdown",
   "metadata": {},
   "source": [
    "We can see books after 2016 are more numbers & the dicounts are clustered between 2016 and 2022. I just wanna check if the counts are more after 2012."
   ]
  },
  {
   "cell_type": "code",
   "execution_count": 654,
   "metadata": {
    "scrolled": true
   },
   "outputs": [
    {
     "data": {
      "text/plain": [
       "book_name         246\n",
       "format            246\n",
       "date              246\n",
       "author            246\n",
       "original_price    228\n",
       "sale_price        246\n",
       "cost_saved        228\n",
       "discount_%        217\n",
       "order_type        246\n",
       "dtype: int64"
      ]
     },
     "execution_count": 654,
     "metadata": {},
     "output_type": "execute_result"
    }
   ],
   "source": [
    "start_date = '2012-01-01'\n",
    "end_date = '2024-01-01'\n",
    "mask = (book_depo['date'] > start_date) & (book_depo['date'] <= end_date)\n",
    "count_new = book_depo.loc[mask]\n",
    "count_new.count()"
   ]
  },
  {
   "cell_type": "code",
   "execution_count": 655,
   "metadata": {},
   "outputs": [],
   "source": [
    "start_d = '1990-01-01'\n",
    "end_d = '2011-12-30'\n",
    "mask1 = (book_depo['date'] > start_d) & (book_depo['date'] <= end_d)\n",
    "count_new = book_depo.loc[mask1]\n"
   ]
  },
  {
   "cell_type": "code",
   "execution_count": 656,
   "metadata": {
    "scrolled": true
   },
   "outputs": [
    {
     "data": {
      "text/plain": [
       "book_name         24\n",
       "format            24\n",
       "date              24\n",
       "author            24\n",
       "original_price    21\n",
       "sale_price        24\n",
       "cost_saved        21\n",
       "discount_%        21\n",
       "order_type        24\n",
       "dtype: int64"
      ]
     },
     "execution_count": 656,
     "metadata": {},
     "output_type": "execute_result"
    }
   ],
   "source": [
    "count_new.count()"
   ]
  },
  {
   "cell_type": "markdown",
   "metadata": {},
   "source": [
    "As I suspected it's true, most of the book in depository are after 2012 that's why we noticed cluster towards 2021"
   ]
  },
  {
   "cell_type": "code",
   "execution_count": 657,
   "metadata": {
    "scrolled": true
   },
   "outputs": [
    {
     "name": "stdout",
     "output_type": "stream",
     "text": [
      "189\n"
     ]
    }
   ],
   "source": [
    "author_number = book_depo['author'].unique()\n",
    "print(len(author_number))"
   ]
  },
  {
   "cell_type": "markdown",
   "metadata": {},
   "source": [
    "There are 164 authors only written 234 books"
   ]
  },
  {
   "cell_type": "code",
   "execution_count": 658,
   "metadata": {
    "scrolled": false
   },
   "outputs": [
    {
     "data": {
      "text/plain": [
       "Mo Xiang Tong Xiu    10\n",
       "Colleen Hoover        9\n",
       "Andrzej Sapkowski     9\n",
       "Gege Akutami          7\n",
       "J.K. Rowling          5\n",
       "Name: author, dtype: int64"
      ]
     },
     "execution_count": 658,
     "metadata": {},
     "output_type": "execute_result"
    }
   ],
   "source": [
    "book_depo['author'].value_counts()[:5].sort_values(ascending=False)"
   ]
  },
  {
   "cell_type": "markdown",
   "metadata": {},
   "source": [
    "Mo Xiang Tong Xiu is the person with highest number of books. above list shows authors with top 5 most number of books"
   ]
  },
  {
   "cell_type": "code",
   "execution_count": 659,
   "metadata": {
    "scrolled": false
   },
   "outputs": [
    {
     "data": {
      "image/png": "[encoded data removed]",
      "text/plain": [
       "<Figure size 360x360 with 1 Axes>"
      ]
     },
     "metadata": {
      "needs_background": "light"
     },
     "output_type": "display_data"
    }
   ],
   "source": [
    "g = sns.relplot(x=\"date\", y=\"sale_price\", kind=\"line\", data=book_depo)\n",
    "g.fig.autofmt_xdate()"
   ]
  },
  {
   "cell_type": "markdown",
   "metadata": {},
   "source": [
    "From the above graph,we can see that the sale price has increased over time and most books are released after 2016"
   ]
  },
  {
   "cell_type": "code",
   "execution_count": 660,
   "metadata": {
    "scrolled": false
   },
   "outputs": [
    {
     "data": {
      "image/png": "[encoded data removed]",
      "text/plain": [
       "<Figure size 360x360 with 1 Axes>"
      ]
     },
     "metadata": {
      "needs_background": "light"
     },
     "output_type": "display_data"
    }
   ],
   "source": [
    "sns.relplot(x=\"sale_price\", y=\"discount_%\", data=book_depo);"
   ]
  },
  {
   "cell_type": "markdown",
   "metadata": {},
   "source": [
    "Most Products with 10 to 20 sale price have most discounts. but it does not show any relatioship between sale price and discount"
   ]
  },
  {
   "cell_type": "code",
   "execution_count": 661,
   "metadata": {
    "scrolled": false
   },
   "outputs": [
    {
     "data": {
      "text/plain": [
       "<seaborn.axisgrid.PairGrid at 0x2dc34732700>"
      ]
     },
     "execution_count": 661,
     "metadata": {},
     "output_type": "execute_result"
    },
    {
     "data": {
      "image/png": "[encoded data removed]",
      "text/plain": [
       "<Figure size 824.625x720 with 20 Axes>"
      ]
     },
     "metadata": {
      "needs_background": "light"
     },
     "output_type": "display_data"
    }
   ],
   "source": [
    "sns.pairplot(book_depo, hue=\"order_type\")"
   ]
  },
  {
   "cell_type": "markdown",
   "metadata": {},
   "source": [
    "Comparing all the diagrams I can see there is a linear relatioship between original price and cost saved. I think people purchase books with more original rate gets more discount. that's the reason for this."
   ]
  },
  {
   "cell_type": "markdown",
   "metadata": {},
   "source": [
    "### Results"
   ]
  },
  {
   "cell_type": "markdown",
   "metadata": {},
   "source": [
    "<div style=\"background-color:powderblue; padding-left: 12px !important;\"><br><br><b>Final Study</b>\n",
    "    \n",
    "Scraping is done from bookdepository.com, using beautiful soup data has been collected and stored into the pandas dataframe.\n",
    "I took data from first 9 pages. each page contains 30 books each so total 270 books information is collected for this project.\n",
    "\n",
    "Data cleaning was the second stage, from the data collected appropriate information has been extracted using python. Data types are corrected before hand to the pandas dataframe generation. missing columns are manually checked on the bookdepository websie and inserted NaN values to maintain data accuracy.\n",
    "\n",
    "After cleaningall the data has been combined and added to a final dataset called 'book_depo', NaN values treated as required values considering the website behaviour(as explained in previous section).\n",
    "\n",
    "Created different univariate, bivariate and multivariate graphs for the visualization and interpretation. Univariate plots showed outliers but all the values were acceptable(as explained in previous section). \n",
    "\n",
    "Comparing different plots found an interesting fact that there is a linear relatioship going on between original price and cost_saved(further co-relation tests are advised to prove this assumption, not doing it here as it's not relevant for this project).\n",
    "\n",
    "Also the graphs showed most of the books available in bookdepository are released after2012 . \n",
    "\n",
    "Also it's interesting to see 189 Authors wrote 270 books  which means one author have written multiple books in this sample. Out of 270 books 10 books are written by Mo Xiang Tong Xiu & that is most number of books written by an author in the collected sample.\n",
    "\n",
    "Looking at the book format 224 books approximately 83% of total books are paperpacks. so we can say that company is mostly selling paperpacks.\n",
    "\n",
    "\n",
    "Out of 270 books 251 books are add to basket purchase compared to pre-ordering, though these informations might not be a significant finding I just wanted to see what kind of sales behaviour is being done in bookdepository.\n",
    "\n",
    "The most interesting fact is that products cost between 10 to 20 are the major part of the book sale and they have more discount as well.<br><br><br>\n"
   ]
  }
 ],
 "metadata": {
  "kernelspec": {
   "display_name": "Python 3",
   "language": "python",
   "name": "python3"
  },
  "language_info": {
   "codemirror_mode": {
    "name": "ipython",
    "version": 3
   },
   "file_extension": ".py",
   "mimetype": "text/x-python",
   "name": "python",
   "nbconvert_exporter": "python",
   "pygments_lexer": "ipython3",
   "version": "3.8.8"
  }
 },
 "nbformat": 4,
 "nbformat_minor": 4
}
